{
 "cells": [
  {
   "cell_type": "markdown",
   "id": "ae7f389a",
   "metadata": {},
   "source": [
    "# Optimization of Nueral Networks Using Particle Swarm Optimization"
   ]
  },
  {
   "cell_type": "markdown",
   "id": "6e73c2ef",
   "metadata": {},
   "source": [
    "### [References : Particle swarm optimization of a neural network model in a machining process(IAS)](https://www.ias.ac.in/public/Volumes/sadh/039/03/0533-0548.pdf)"
   ]
  },
  {
   "cell_type": "markdown",
   "id": "ac6e4f01",
   "metadata": {},
   "source": [
    "## Importing Packages"
   ]
  },
  {
   "cell_type": "code",
   "execution_count": 1,
   "id": "75292efe",
   "metadata": {},
   "outputs": [],
   "source": [
    "import tensorflow as tf\n",
    "from tensorflow import keras\n",
    "from keras.models import Sequential\n",
    "from keras.layers import Dense\n",
    "import pandas as pd\n",
    "import numpy as np\n",
    "from sklearn.model_selection import train_test_split\n",
    "import matplotlib.pyplot as plt\n",
    "import seaborn as sns\n",
    "import warnings\n",
    "warnings.filterwarnings('ignore')\n",
    "from sklearn.preprocessing import StandardScaler \n",
    "from sklearn.metrics import accuracy_score"
   ]
  },
  {
   "cell_type": "markdown",
   "id": "5ed83171",
   "metadata": {},
   "source": [
    "### Checking GPU Accelaration"
   ]
  },
  {
   "cell_type": "code",
   "execution_count": 2,
   "id": "6a2ab718",
   "metadata": {},
   "outputs": [
    {
     "name": "stdout",
     "output_type": "stream",
     "text": [
      "Num GPUs Available:  1\n"
     ]
    }
   ],
   "source": [
    "print(\"Num GPUs Available: \", len(tf.config.list_physical_devices('GPU')))"
   ]
  },
  {
   "cell_type": "markdown",
   "id": "a9479803",
   "metadata": {},
   "source": [
    "### Reading Processed Dataset"
   ]
  },
  {
   "cell_type": "markdown",
   "id": "42469658",
   "metadata": {},
   "source": [
    "#### processed version of bank_loan_dataset from  [Neural Nets optimization using GA](https://github.com/Surya443/Evolutionary-ANNs-CIA-2-/blob/main/ANN(ga).ipynb)"
   ]
  },
  {
   "cell_type": "code",
   "execution_count": 3,
   "id": "0bdfcdde",
   "metadata": {},
   "outputs": [],
   "source": [
    "df = pd.read_csv('processed.csv')"
   ]
  },
  {
   "cell_type": "markdown",
   "id": "acbc6ee9",
   "metadata": {},
   "source": [
    "### Defining Target Variable"
   ]
  },
  {
   "cell_type": "code",
   "execution_count": 4,
   "id": "daf7d424",
   "metadata": {},
   "outputs": [],
   "source": [
    "x = df.drop('Personal Loan',axis = 1)\n",
    "x = df.drop('Unnamed: 0',axis = 1)\n",
    "y = df['Personal Loan']"
   ]
  },
  {
   "cell_type": "code",
   "execution_count": 5,
   "id": "db0a8cf6",
   "metadata": {},
   "outputs": [
    {
     "data": {
      "text/html": [
       "<div>\n",
       "<style scoped>\n",
       "    .dataframe tbody tr th:only-of-type {\n",
       "        vertical-align: middle;\n",
       "    }\n",
       "\n",
       "    .dataframe tbody tr th {\n",
       "        vertical-align: top;\n",
       "    }\n",
       "\n",
       "    .dataframe thead th {\n",
       "        text-align: right;\n",
       "    }\n",
       "</style>\n",
       "<table border=\"1\" class=\"dataframe\">\n",
       "  <thead>\n",
       "    <tr style=\"text-align: right;\">\n",
       "      <th></th>\n",
       "      <th>Age</th>\n",
       "      <th>Experience</th>\n",
       "      <th>Income</th>\n",
       "      <th>Family</th>\n",
       "      <th>CCAvg</th>\n",
       "      <th>Education</th>\n",
       "      <th>Mortgage</th>\n",
       "      <th>Personal Loan</th>\n",
       "      <th>Securities Account</th>\n",
       "      <th>CD Account</th>\n",
       "      <th>Online</th>\n",
       "      <th>CreditCard</th>\n",
       "    </tr>\n",
       "  </thead>\n",
       "  <tbody>\n",
       "    <tr>\n",
       "      <th>0</th>\n",
       "      <td>25</td>\n",
       "      <td>1</td>\n",
       "      <td>49</td>\n",
       "      <td>4</td>\n",
       "      <td>1.6</td>\n",
       "      <td>1</td>\n",
       "      <td>0</td>\n",
       "      <td>0</td>\n",
       "      <td>1</td>\n",
       "      <td>0</td>\n",
       "      <td>0</td>\n",
       "      <td>0</td>\n",
       "    </tr>\n",
       "    <tr>\n",
       "      <th>1</th>\n",
       "      <td>45</td>\n",
       "      <td>19</td>\n",
       "      <td>34</td>\n",
       "      <td>3</td>\n",
       "      <td>1.5</td>\n",
       "      <td>1</td>\n",
       "      <td>0</td>\n",
       "      <td>0</td>\n",
       "      <td>1</td>\n",
       "      <td>0</td>\n",
       "      <td>0</td>\n",
       "      <td>0</td>\n",
       "    </tr>\n",
       "    <tr>\n",
       "      <th>2</th>\n",
       "      <td>39</td>\n",
       "      <td>15</td>\n",
       "      <td>11</td>\n",
       "      <td>1</td>\n",
       "      <td>1.0</td>\n",
       "      <td>1</td>\n",
       "      <td>0</td>\n",
       "      <td>0</td>\n",
       "      <td>0</td>\n",
       "      <td>0</td>\n",
       "      <td>0</td>\n",
       "      <td>0</td>\n",
       "    </tr>\n",
       "    <tr>\n",
       "      <th>3</th>\n",
       "      <td>35</td>\n",
       "      <td>9</td>\n",
       "      <td>100</td>\n",
       "      <td>1</td>\n",
       "      <td>2.7</td>\n",
       "      <td>2</td>\n",
       "      <td>0</td>\n",
       "      <td>0</td>\n",
       "      <td>0</td>\n",
       "      <td>0</td>\n",
       "      <td>0</td>\n",
       "      <td>0</td>\n",
       "    </tr>\n",
       "    <tr>\n",
       "      <th>4</th>\n",
       "      <td>35</td>\n",
       "      <td>8</td>\n",
       "      <td>45</td>\n",
       "      <td>4</td>\n",
       "      <td>1.0</td>\n",
       "      <td>2</td>\n",
       "      <td>0</td>\n",
       "      <td>0</td>\n",
       "      <td>0</td>\n",
       "      <td>0</td>\n",
       "      <td>0</td>\n",
       "      <td>1</td>\n",
       "    </tr>\n",
       "  </tbody>\n",
       "</table>\n",
       "</div>"
      ],
      "text/plain": [
       "   Age  Experience  Income  Family  CCAvg  Education  Mortgage  Personal Loan   \n",
       "0   25           1      49       4    1.6          1         0              0  \\\n",
       "1   45          19      34       3    1.5          1         0              0   \n",
       "2   39          15      11       1    1.0          1         0              0   \n",
       "3   35           9     100       1    2.7          2         0              0   \n",
       "4   35           8      45       4    1.0          2         0              0   \n",
       "\n",
       "   Securities Account  CD Account  Online  CreditCard  \n",
       "0                   1           0       0           0  \n",
       "1                   1           0       0           0  \n",
       "2                   0           0       0           0  \n",
       "3                   0           0       0           0  \n",
       "4                   0           0       0           1  "
      ]
     },
     "execution_count": 5,
     "metadata": {},
     "output_type": "execute_result"
    }
   ],
   "source": [
    "x.head()"
   ]
  },
  {
   "cell_type": "markdown",
   "id": "2dd6a0e5",
   "metadata": {},
   "source": [
    "### Scaling X values"
   ]
  },
  {
   "cell_type": "code",
   "execution_count": 6,
   "id": "25b12694",
   "metadata": {},
   "outputs": [],
   "source": [
    "std = StandardScaler()\n",
    "x_std= std.fit_transform(x)\n",
    "x_train, x_test, y_train, y_test = train_test_split(x_std, y, test_size=0.33, random_state=42, stratify = y)"
   ]
  },
  {
   "cell_type": "markdown",
   "id": "1fb20840",
   "metadata": {},
   "source": [
    "### Defining the Architecture of Neural Nets"
   ]
  },
  {
   "cell_type": "code",
   "execution_count": 7,
   "id": "2453d131",
   "metadata": {},
   "outputs": [],
   "source": [
    "model = Sequential()\n",
    "model.add(Dense(12, input_shape=(12,), activation='relu'))\n",
    "model.add(Dense(1, activation='sigmoid'))"
   ]
  },
  {
   "cell_type": "code",
   "execution_count": 17,
   "id": "7990a49b",
   "metadata": {},
   "outputs": [
    {
     "name": "stdout",
     "output_type": "stream",
     "text": [
      "Model: \"sequential\"\n",
      "_________________________________________________________________\n",
      " Layer (type)                Output Shape              Param #   \n",
      "=================================================================\n",
      " dense (Dense)               (None, 12)                156       \n",
      "                                                                 \n",
      " dense_1 (Dense)             (None, 1)                 13        \n",
      "                                                                 \n",
      "=================================================================\n",
      "Total params: 169\n",
      "Trainable params: 169\n",
      "Non-trainable params: 0\n",
      "_________________________________________________________________\n"
     ]
    }
   ],
   "source": [
    "model.summary()"
   ]
  },
  {
   "cell_type": "markdown",
   "id": "e798766a",
   "metadata": {},
   "source": [
    "### Defining Fitness Function"
   ]
  },
  {
   "cell_type": "code",
   "execution_count": 8,
   "id": "280014c1",
   "metadata": {},
   "outputs": [],
   "source": [
    "import pygad.kerasga\n",
    "def fitness_function(weights,index):\n",
    "    global x,y,model\n",
    "    \n",
    "    model_wt_matrix = pygad.kerasga.model_weights_as_matrix(model=model,\n",
    "                                                            weights_vector=weights)\n",
    "    \n",
    "    model.set_weights(weights = model_wt_matrix)\n",
    "    \n",
    "    prediction = model.predict(x)\n",
    "    \n",
    "    bce = tf.keras.losses.BinaryCrossentropy()\n",
    "    \n",
    "    error = bce(y,prediction).numpy()\n",
    "    \n",
    "    fitness = 1.0/(error + 0.0000001)\n",
    "    \n",
    "    return fitness"
   ]
  },
  {
   "cell_type": "markdown",
   "id": "ec978f3d",
   "metadata": {},
   "source": [
    "## Defining PSO-Optimizer"
   ]
  },
  {
   "cell_type": "markdown",
   "id": "111ff901",
   "metadata": {},
   "source": [
    "### Using"
   ]
  },
  {
   "attachments": {
    "th.webp": {
     "image/webp": "[encoded data removed]"
    }
   },
   "cell_type": "markdown",
   "id": "a64de8a8",
   "metadata": {},
   "source": [
    "![th.webp](attachment:th.webp)"
   ]
  },
  {
   "cell_type": "code",
   "execution_count": 9,
   "id": "6fe8d1dc",
   "metadata": {},
   "outputs": [],
   "source": [
    "def pso():\n",
    "    # Define the search space for PSO (i.e., the bounds on the weights)\n",
    "    lb = -1\n",
    "    ub = 1\n",
    "    num_particles = 5\n",
    "    num_iterations = 10\n",
    "    \n",
    "    # Initialize the particles\n",
    "    particles = np.random.uniform(low=lb, high=ub, size=(num_particles, model.count_params()))\n",
    "    velocities = np.zeros_like(particles)\n",
    "    fitnesses = np.zeros(num_particles)\n",
    "    best_positions = particles.copy()\n",
    "    best_fitnesses = np.zeros(num_particles)\n",
    "    global_best_position = particles[0].copy()\n",
    "    global_best_fitness = 0\n",
    "    \n",
    "    # Evaluate the fitness of each particle\n",
    "    for i in range(num_particles):\n",
    "        fitness = fitness_function(particles[i], i)\n",
    "        fitnesses[i] = fitness\n",
    "        if fitness > fitnesses[i]:\n",
    "            best_positions[i] = positions[i].copy()\n",
    "            \n",
    "    # Run PSO for num_iterations iterations\n",
    "    for iteration in range(num_iterations):\n",
    "        # Update the velocities and positions of the particles\n",
    "        for i in range(num_particles):\n",
    "            \n",
    "            # Update the velocity\n",
    "            inertia_weight = 0.7\n",
    "            cognitive_weight = 1.5\n",
    "            social_weight = 1.5\n",
    "            r1 = np.random.rand(model.count_params())\n",
    "            r2 = np.random.rand(model.count_params())\n",
    "            \n",
    "            #Swarm Optimization Formula\n",
    "            velocities[i] = (inertia_weight * velocities[i]\n",
    "                             + cognitive_weight * r1 * (best_positions[i] - particles[i])\n",
    "                             + social_weight * r2 * (global_best_position - particles[i]))\n",
    "            \n",
    "            # Update the position\n",
    "            particles[i] = particles[i] + velocities[i]\n",
    "            # Ensure that the position is within the search space\n",
    "            particles[i] = np.clip(particles[i], lb, ub)\n",
    "            \n",
    "            # Evaluate the fitness of the particle and update the best position and fitness if necessary\n",
    "            for i in range(num_particles):\n",
    "                fitness = fitness_function(particles[i], i)\n",
    "                if fitness > fitnesses[i]:\n",
    "                    fitnesses[i] = fitness\n",
    "                    best_positions[i] = particles[i].copy()\n",
    "                    if fitness > global_best_fitness:\n",
    "                        global_best_position = best_positions[i].copy()\n",
    "                        global_best_fitness = fitness\n",
    "        \n",
    "                    \n",
    "        # Print the best fitness \n",
    "        print(\"Iteration:\", iteration, \"Best fitness:\", global_best_fitness)\n",
    "    # Return the best solution found by PSO\n",
    "    return global_best_position"
   ]
  },
  {
   "cell_type": "markdown",
   "id": "0b8f36d6",
   "metadata": {},
   "source": [
    "### Setting the Best weight to our Model"
   ]
  },
  {
   "cell_type": "code",
   "execution_count": 11,
   "id": "ce873f05",
   "metadata": {},
   "outputs": [
    {
     "name": "stdout",
     "output_type": "stream",
     "text": [
      "148/148 [==============================] - 1s 927us/step\n",
      "148/148 [==============================] - 0s 1ms/step\n",
      "148/148 [==============================] - 0s 962us/step\n",
      "148/148 [==============================] - 0s 1ms/step\n",
      "148/148 [==============================] - 0s 972us/step\n",
      "148/148 [==============================] - 0s 981us/step\n",
      "148/148 [==============================] - 0s 987us/step\n",
      "148/148 [==============================] - 0s 1ms/step\n",
      "148/148 [==============================] - 0s 927us/step\n",
      "148/148 [==============================] - 0s 986us/step\n",
      "148/148 [==============================] - 0s 989us/step\n",
      "148/148 [==============================] - 0s 881us/step\n",
      "148/148 [==============================] - 0s 1ms/step\n",
      "148/148 [==============================] - 0s 977us/step\n",
      "148/148 [==============================] - 0s 979us/step\n",
      "148/148 [==============================] - 0s 961us/step\n",
      "148/148 [==============================] - 0s 968us/step\n",
      "148/148 [==============================] - 0s 927us/step\n",
      "148/148 [==============================] - 0s 957us/step\n",
      "148/148 [==============================] - 0s 1ms/step\n",
      "148/148 [==============================] - 0s 1ms/step\n",
      "148/148 [==============================] - 0s 1ms/step\n",
      "148/148 [==============================] - 0s 975us/step\n",
      "148/148 [==============================] - 0s 1ms/step\n",
      "148/148 [==============================] - 0s 1ms/step\n",
      "148/148 [==============================] - 0s 950us/step\n",
      "148/148 [==============================] - 0s 990us/step\n",
      "148/148 [==============================] - 0s 921us/step\n",
      "148/148 [==============================] - 0s 975us/step\n",
      "148/148 [==============================] - 0s 1ms/step\n",
      "Iteration: 0 Best fitness: 0.07949785497685675\n",
      "148/148 [==============================] - 0s 938us/step\n",
      "148/148 [==============================] - 0s 982us/step\n",
      "148/148 [==============================] - 0s 932us/step\n",
      "148/148 [==============================] - 0s 981us/step\n",
      "148/148 [==============================] - 0s 973us/step\n",
      "148/148 [==============================] - 0s 1ms/step\n",
      "148/148 [==============================] - 0s 943us/step\n",
      "148/148 [==============================] - 0s 932us/step\n",
      "148/148 [==============================] - 0s 946us/step\n",
      "148/148 [==============================] - 0s 986us/step\n",
      "148/148 [==============================] - 0s 984us/step\n",
      "148/148 [==============================] - 0s 995us/step\n",
      "148/148 [==============================] - 0s 998us/step\n",
      "148/148 [==============================] - 0s 983us/step\n",
      "148/148 [==============================] - 0s 981us/step\n",
      "148/148 [==============================] - 0s 942us/step\n",
      "148/148 [==============================] - 0s 934us/step\n",
      "148/148 [==============================] - 0s 974us/step\n",
      "148/148 [==============================] - 0s 950us/step\n",
      "148/148 [==============================] - 0s 1ms/step\n",
      "148/148 [==============================] - 0s 978us/step\n",
      "148/148 [==============================] - 0s 985us/step\n",
      "148/148 [==============================] - 0s 1ms/step\n",
      "148/148 [==============================] - 0s 962us/step\n",
      "148/148 [==============================] - 0s 954us/step\n",
      "Iteration: 1 Best fitness: 0.07949785497685675\n",
      "148/148 [==============================] - 0s 974us/step\n",
      "148/148 [==============================] - 0s 915us/step\n",
      "148/148 [==============================] - 0s 949us/step\n",
      "148/148 [==============================] - 0s 1ms/step\n",
      "148/148 [==============================] - 0s 989us/step\n",
      "148/148 [==============================] - 0s 980us/step\n",
      "148/148 [==============================] - 0s 962us/step\n",
      "148/148 [==============================] - 0s 1ms/step\n",
      "148/148 [==============================] - 0s 998us/step\n",
      "148/148 [==============================] - 0s 954us/step\n",
      "148/148 [==============================] - 0s 991us/step\n",
      "148/148 [==============================] - 0s 1ms/step\n",
      "148/148 [==============================] - 0s 1ms/step\n",
      "148/148 [==============================] - 0s 993us/step\n",
      "148/148 [==============================] - 0s 952us/step\n",
      "148/148 [==============================] - 0s 1000us/step\n",
      "148/148 [==============================] - 0s 968us/step\n",
      "148/148 [==============================] - 0s 976us/step\n",
      "148/148 [==============================] - 0s 970us/step\n",
      "148/148 [==============================] - 0s 945us/step\n",
      "148/148 [==============================] - 0s 935us/step\n",
      "148/148 [==============================] - 0s 927us/step\n",
      "148/148 [==============================] - 0s 971us/step\n",
      "148/148 [==============================] - 0s 970us/step\n",
      "148/148 [==============================] - 0s 924us/step\n",
      "Iteration: 2 Best fitness: 0.08770436968660907\n",
      "148/148 [==============================] - 0s 943us/step\n",
      "148/148 [==============================] - 0s 1ms/step\n",
      "148/148 [==============================] - 0s 944us/step\n",
      "148/148 [==============================] - 0s 978us/step\n",
      "148/148 [==============================] - 0s 1ms/step\n",
      "148/148 [==============================] - 0s 955us/step\n",
      "148/148 [==============================] - 0s 950us/step\n",
      "148/148 [==============================] - 0s 993us/step\n",
      "148/148 [==============================] - 0s 1000us/step\n",
      "148/148 [==============================] - 0s 914us/step\n",
      "148/148 [==============================] - 0s 972us/step\n",
      "148/148 [==============================] - 0s 966us/step\n",
      "148/148 [==============================] - 0s 927us/step\n",
      "148/148 [==============================] - 0s 939us/step\n",
      "148/148 [==============================] - 0s 1ms/step\n",
      "148/148 [==============================] - 0s 1ms/step\n",
      "148/148 [==============================] - 0s 919us/step\n",
      "148/148 [==============================] - 0s 1ms/step\n",
      "148/148 [==============================] - 0s 959us/step\n",
      "148/148 [==============================] - 0s 935us/step\n",
      "148/148 [==============================] - 0s 938us/step\n",
      "148/148 [==============================] - 0s 976us/step\n",
      "148/148 [==============================] - 0s 941us/step\n",
      "148/148 [==============================] - 0s 948us/step\n",
      "148/148 [==============================] - 0s 928us/step\n",
      "Iteration: 3 Best fitness: 0.8098326062290784\n",
      "148/148 [==============================] - 0s 984us/step\n",
      "148/148 [==============================] - 0s 972us/step\n",
      "148/148 [==============================] - 0s 973us/step\n",
      "148/148 [==============================] - 0s 967us/step\n",
      "148/148 [==============================] - 0s 1ms/step\n",
      "148/148 [==============================] - 0s 996us/step\n",
      "148/148 [==============================] - 0s 947us/step\n",
      "148/148 [==============================] - 0s 932us/step\n",
      "148/148 [==============================] - 0s 1ms/step\n",
      "148/148 [==============================] - 0s 953us/step\n",
      "148/148 [==============================] - 0s 927us/step\n",
      "148/148 [==============================] - 0s 918us/step\n",
      "148/148 [==============================] - 0s 967us/step\n",
      "148/148 [==============================] - 0s 947us/step\n",
      "148/148 [==============================] - 0s 973us/step\n",
      "148/148 [==============================] - 0s 998us/step\n",
      "148/148 [==============================] - 0s 1ms/step\n",
      "148/148 [==============================] - 0s 948us/step\n",
      "148/148 [==============================] - 0s 994us/step\n",
      "148/148 [==============================] - 0s 958us/step\n",
      "148/148 [==============================] - 0s 999us/step\n",
      "148/148 [==============================] - 0s 951us/step\n",
      "148/148 [==============================] - 0s 927us/step\n",
      "148/148 [==============================] - 0s 893us/step\n",
      "148/148 [==============================] - 0s 940us/step\n",
      "Iteration: 4 Best fitness: 0.8098326062290784\n",
      "148/148 [==============================] - 0s 1ms/step\n",
      "148/148 [==============================] - 0s 929us/step\n",
      "148/148 [==============================] - 0s 885us/step\n",
      "148/148 [==============================] - 0s 964us/step\n",
      "148/148 [==============================] - 0s 943us/step\n",
      "148/148 [==============================] - 0s 954us/step\n",
      "148/148 [==============================] - 0s 1ms/step\n",
      "148/148 [==============================] - 0s 978us/step\n",
      "148/148 [==============================] - 0s 962us/step\n",
      "148/148 [==============================] - 0s 952us/step\n",
      "148/148 [==============================] - 0s 948us/step\n",
      "148/148 [==============================] - 0s 959us/step\n",
      "148/148 [==============================] - 0s 885us/step\n",
      "148/148 [==============================] - 0s 928us/step\n",
      "148/148 [==============================] - 0s 1ms/step\n",
      "148/148 [==============================] - 0s 999us/step\n",
      "148/148 [==============================] - 0s 1ms/step\n",
      "148/148 [==============================] - 0s 957us/step\n",
      "148/148 [==============================] - 0s 932us/step\n",
      "148/148 [==============================] - 0s 1ms/step\n",
      "148/148 [==============================] - 0s 947us/step\n",
      "148/148 [==============================] - 0s 986us/step\n",
      "148/148 [==============================] - 0s 967us/step\n",
      "148/148 [==============================] - 0s 919us/step\n",
      "148/148 [==============================] - 0s 942us/step\n",
      "Iteration: 5 Best fitness: 0.8179986572271104\n",
      "148/148 [==============================] - 0s 966us/step\n",
      "148/148 [==============================] - 0s 972us/step\n",
      "148/148 [==============================] - 0s 918us/step\n",
      "148/148 [==============================] - 0s 964us/step\n",
      "148/148 [==============================] - 0s 920us/step\n",
      "148/148 [==============================] - 0s 900us/step\n",
      "148/148 [==============================] - 0s 885us/step\n",
      "148/148 [==============================] - 0s 964us/step\n",
      "148/148 [==============================] - 0s 992us/step\n",
      "148/148 [==============================] - 0s 929us/step\n",
      "148/148 [==============================] - 0s 931us/step\n",
      "148/148 [==============================] - 0s 921us/step\n",
      "148/148 [==============================] - 0s 926us/step\n",
      "148/148 [==============================] - 0s 905us/step\n",
      "148/148 [==============================] - 0s 1ms/step\n",
      "148/148 [==============================] - 0s 967us/step\n",
      "148/148 [==============================] - 0s 997us/step\n",
      "148/148 [==============================] - 0s 982us/step\n",
      "148/148 [==============================] - 0s 963us/step\n",
      "148/148 [==============================] - 0s 941us/step\n",
      "148/148 [==============================] - 0s 961us/step\n",
      "148/148 [==============================] - 0s 912us/step\n",
      "148/148 [==============================] - 0s 951us/step\n",
      "148/148 [==============================] - 0s 899us/step\n",
      "148/148 [==============================] - 0s 849us/step\n",
      "Iteration: 6 Best fitness: 0.8179986572271104\n",
      "148/148 [==============================] - 0s 918us/step\n",
      "148/148 [==============================] - 0s 1ms/step\n",
      "148/148 [==============================] - 0s 940us/step\n",
      "148/148 [==============================] - 0s 983us/step\n",
      "148/148 [==============================] - 0s 947us/step\n",
      "148/148 [==============================] - 0s 1ms/step\n",
      "148/148 [==============================] - 0s 957us/step\n",
      "148/148 [==============================] - 0s 1ms/step\n",
      "148/148 [==============================] - 0s 981us/step\n",
      "148/148 [==============================] - 0s 979us/step\n",
      "148/148 [==============================] - 0s 921us/step\n",
      "148/148 [==============================] - 0s 994us/step\n",
      "148/148 [==============================] - 0s 1ms/step\n",
      "148/148 [==============================] - 0s 942us/step\n",
      "148/148 [==============================] - 0s 949us/step\n",
      "148/148 [==============================] - 0s 991us/step\n",
      "148/148 [==============================] - 0s 1ms/step\n",
      "148/148 [==============================] - 0s 876us/step\n",
      "148/148 [==============================] - 0s 993us/step\n",
      "148/148 [==============================] - 0s 1ms/step\n",
      "148/148 [==============================] - 0s 937us/step\n",
      "148/148 [==============================] - 0s 1ms/step\n",
      "148/148 [==============================] - 0s 1ms/step\n",
      "148/148 [==============================] - 0s 927us/step\n",
      "148/148 [==============================] - 0s 1ms/step\n",
      "Iteration: 7 Best fitness: 0.8179986572271104\n",
      "148/148 [==============================] - 0s 1ms/step\n",
      "148/148 [==============================] - 0s 1ms/step\n",
      "148/148 [==============================] - 0s 1ms/step\n",
      "148/148 [==============================] - 0s 1ms/step\n",
      "148/148 [==============================] - 0s 1ms/step\n",
      "148/148 [==============================] - 0s 1ms/step\n",
      "148/148 [==============================] - 0s 1ms/step\n",
      "148/148 [==============================] - 0s 1ms/step\n",
      "148/148 [==============================] - 0s 1ms/step\n",
      "148/148 [==============================] - 0s 1ms/step\n",
      "148/148 [==============================] - 0s 1ms/step\n",
      "148/148 [==============================] - 0s 1ms/step\n",
      "148/148 [==============================] - 0s 1ms/step\n",
      "148/148 [==============================] - 0s 1ms/step\n",
      "148/148 [==============================] - 0s 1ms/step\n",
      "148/148 [==============================] - 0s 1ms/step\n",
      "148/148 [==============================] - 0s 1ms/step\n",
      "148/148 [==============================] - 0s 1ms/step\n",
      "148/148 [==============================] - 0s 1ms/step\n",
      "148/148 [==============================] - 0s 1ms/step\n",
      "148/148 [==============================] - 0s 1ms/step\n",
      "148/148 [==============================] - 0s 1ms/step\n",
      "148/148 [==============================] - 0s 861us/step\n",
      "148/148 [==============================] - 0s 885us/step\n",
      "148/148 [==============================] - 0s 855us/step\n",
      "Iteration: 8 Best fitness: 0.87480789524318\n",
      "148/148 [==============================] - 0s 921us/step\n",
      "148/148 [==============================] - 0s 958us/step\n",
      "148/148 [==============================] - 0s 971us/step\n",
      "148/148 [==============================] - 0s 898us/step\n",
      "148/148 [==============================] - 0s 955us/step\n",
      "148/148 [==============================] - 0s 906us/step\n",
      "148/148 [==============================] - 0s 930us/step\n",
      "148/148 [==============================] - 0s 1ms/step\n",
      "148/148 [==============================] - 0s 1ms/step\n",
      "148/148 [==============================] - 0s 922us/step\n",
      "148/148 [==============================] - 0s 1ms/step\n",
      "148/148 [==============================] - 0s 1ms/step\n",
      "148/148 [==============================] - 0s 880us/step\n",
      "148/148 [==============================] - 0s 885us/step\n",
      "148/148 [==============================] - 0s 1ms/step\n",
      "148/148 [==============================] - 0s 1ms/step\n",
      "148/148 [==============================] - 0s 957us/step\n",
      "148/148 [==============================] - 0s 1ms/step\n",
      "148/148 [==============================] - 0s 1ms/step\n",
      "148/148 [==============================] - 0s 881us/step\n",
      "148/148 [==============================] - 0s 1ms/step\n",
      "148/148 [==============================] - 0s 1ms/step\n",
      "148/148 [==============================] - 0s 1ms/step\n",
      "148/148 [==============================] - 0s 914us/step\n",
      "148/148 [==============================] - 0s 877us/step\n",
      "Iteration: 9 Best fitness: 0.8810099143152086\n"
     ]
    }
   ],
   "source": [
    "best_weights = pso()\n",
    "best_weights_matrix = pygad.kerasga.model_weights_as_matrix(model=model, weights_vector=best_weights)\n",
    "model.set_weights(weights=best_weights_matrix)"
   ]
  },
  {
   "cell_type": "code",
   "execution_count": 13,
   "id": "3f043059",
   "metadata": {},
   "outputs": [
    {
     "name": "stdout",
     "output_type": "stream",
     "text": [
      "49/49 [==============================] - 0s 1ms/step\n"
     ]
    }
   ],
   "source": [
    "predictions = model.predict(x_test)"
   ]
  },
  {
   "cell_type": "markdown",
   "id": "904facf5",
   "metadata": {},
   "source": [
    "### Finding Accuracy and Binary Loss"
   ]
  },
  {
   "cell_type": "code",
   "execution_count": 24,
   "id": "26d76a7a",
   "metadata": {},
   "outputs": [
    {
     "name": "stdout",
     "output_type": "stream",
     "text": [
      "Binary Loss :  0.52181375\n",
      "Accuracy : 89.575290 Percent\n"
     ]
    }
   ],
   "source": [
    "bce = tf.keras.losses.BinaryCrossentropy()\n",
    "print(\"Binary Loss : \",bce(y,predictions).numpy(),end = '\\n')\n",
    "tf_y_pred = predictions>0.5\n",
    "accuracy = accuracy_score(y_test,tf_y_pred)\n",
    "print(\"Accuracy : {:f} Percent\".format(accuracy*100))"
   ]
  }
 ],
 "metadata": {
  "kernelspec": {
   "display_name": "GPUEnv",
   "language": "python",
   "name": "gpuenv"
  },
  "language_info": {
   "codemirror_mode": {
    "name": "ipython",
    "version": 3
   },
   "file_extension": ".py",
   "mimetype": "text/x-python",
   "name": "python",
   "nbconvert_exporter": "python",
   "pygments_lexer": "ipython3",
   "version": "3.9.1"
  }
 },
 "nbformat": 4,
 "nbformat_minor": 5
}
